{
 "cells": [
  {
   "cell_type": "code",
   "execution_count": 1,
   "id": "8455781f",
   "metadata": {},
   "outputs": [],
   "source": [
    "import pandas as pd\n",
    "import numpy as np\n",
    "import matplotlib.pyplot as plt\n",
    "from scipy.stats import pearsonr\n",
    "import statsmodels.formula.api as smf"
   ]
  },
  {
   "cell_type": "code",
   "execution_count": 3,
   "id": "99ac0293",
   "metadata": {},
   "outputs": [],
   "source": [
    "newdata = pd.read_excel(\"/Users/amitmishra/Downloads/lfcsquadstatsnew.xlsx\")"
   ]
  },
  {
   "cell_type": "code",
   "execution_count": 4,
   "id": "f08fd791",
   "metadata": {},
   "outputs": [],
   "source": [
    "model = smf.ols(\"Min~Age\", data = newdata).fit()"
   ]
  },
  {
   "cell_type": "code",
   "execution_count": 5,
   "id": "ee064e9f",
   "metadata": {},
   "outputs": [
    {
     "data": {
      "text/html": [
       "<table class=\"simpletable\">\n",
       "<caption>OLS Regression Results</caption>\n",
       "<tr>\n",
       "  <th>Dep. Variable:</th>           <td>Min</td>       <th>  R-squared:         </th> <td>   0.212</td>\n",
       "</tr>\n",
       "<tr>\n",
       "  <th>Model:</th>                   <td>OLS</td>       <th>  Adj. R-squared:    </th> <td>   0.180</td>\n",
       "</tr>\n",
       "<tr>\n",
       "  <th>Method:</th>             <td>Least Squares</td>  <th>  F-statistic:       </th> <td>   6.715</td>\n",
       "</tr>\n",
       "<tr>\n",
       "  <th>Date:</th>             <td>Fri, 10 Feb 2023</td> <th>  Prob (F-statistic):</th>  <td>0.0157</td> \n",
       "</tr>\n",
       "<tr>\n",
       "  <th>Time:</th>                 <td>17:57:19</td>     <th>  Log-Likelihood:    </th> <td> -205.07</td>\n",
       "</tr>\n",
       "<tr>\n",
       "  <th>No. Observations:</th>      <td>    27</td>      <th>  AIC:               </th> <td>   414.1</td>\n",
       "</tr>\n",
       "<tr>\n",
       "  <th>Df Residuals:</th>          <td>    25</td>      <th>  BIC:               </th> <td>   416.7</td>\n",
       "</tr>\n",
       "<tr>\n",
       "  <th>Df Model:</th>              <td>     1</td>      <th>                     </th>     <td> </td>   \n",
       "</tr>\n",
       "<tr>\n",
       "  <th>Covariance Type:</th>      <td>nonrobust</td>    <th>                     </th>     <td> </td>   \n",
       "</tr>\n",
       "</table>\n",
       "<table class=\"simpletable\">\n",
       "<tr>\n",
       "      <td></td>         <th>coef</th>     <th>std err</th>      <th>t</th>      <th>P>|t|</th>  <th>[0.025</th>    <th>0.975]</th>  \n",
       "</tr>\n",
       "<tr>\n",
       "  <th>Intercept</th> <td> -581.2025</td> <td>  515.864</td> <td>   -1.127</td> <td> 0.271</td> <td>-1643.645</td> <td>  481.240</td>\n",
       "</tr>\n",
       "<tr>\n",
       "  <th>Age</th>       <td>   50.5106</td> <td>   19.493</td> <td>    2.591</td> <td> 0.016</td> <td>   10.365</td> <td>   90.657</td>\n",
       "</tr>\n",
       "</table>\n",
       "<table class=\"simpletable\">\n",
       "<tr>\n",
       "  <th>Omnibus:</th>       <td> 3.566</td> <th>  Durbin-Watson:     </th> <td>   0.404</td>\n",
       "</tr>\n",
       "<tr>\n",
       "  <th>Prob(Omnibus):</th> <td> 0.168</td> <th>  Jarque-Bera (JB):  </th> <td>   2.022</td>\n",
       "</tr>\n",
       "<tr>\n",
       "  <th>Skew:</th>          <td> 0.420</td> <th>  Prob(JB):          </th> <td>   0.364</td>\n",
       "</tr>\n",
       "<tr>\n",
       "  <th>Kurtosis:</th>      <td> 1.955</td> <th>  Cond. No.          </th> <td>    142.</td>\n",
       "</tr>\n",
       "</table><br/><br/>Notes:<br/>[1] Standard Errors assume that the covariance matrix of the errors is correctly specified."
      ],
      "text/plain": [
       "<class 'statsmodels.iolib.summary.Summary'>\n",
       "\"\"\"\n",
       "                            OLS Regression Results                            \n",
       "==============================================================================\n",
       "Dep. Variable:                    Min   R-squared:                       0.212\n",
       "Model:                            OLS   Adj. R-squared:                  0.180\n",
       "Method:                 Least Squares   F-statistic:                     6.715\n",
       "Date:                Fri, 10 Feb 2023   Prob (F-statistic):             0.0157\n",
       "Time:                        17:57:19   Log-Likelihood:                -205.07\n",
       "No. Observations:                  27   AIC:                             414.1\n",
       "Df Residuals:                      25   BIC:                             416.7\n",
       "Df Model:                           1                                         \n",
       "Covariance Type:            nonrobust                                         \n",
       "==============================================================================\n",
       "                 coef    std err          t      P>|t|      [0.025      0.975]\n",
       "------------------------------------------------------------------------------\n",
       "Intercept   -581.2025    515.864     -1.127      0.271   -1643.645     481.240\n",
       "Age           50.5106     19.493      2.591      0.016      10.365      90.657\n",
       "==============================================================================\n",
       "Omnibus:                        3.566   Durbin-Watson:                   0.404\n",
       "Prob(Omnibus):                  0.168   Jarque-Bera (JB):                2.022\n",
       "Skew:                           0.420   Prob(JB):                        0.364\n",
       "Kurtosis:                       1.955   Cond. No.                         142.\n",
       "==============================================================================\n",
       "\n",
       "Notes:\n",
       "[1] Standard Errors assume that the covariance matrix of the errors is correctly specified.\n",
       "\"\"\""
      ]
     },
     "execution_count": 5,
     "metadata": {},
     "output_type": "execute_result"
    }
   ],
   "source": [
    "model.summary()"
   ]
  },
  {
   "cell_type": "code",
   "execution_count": 6,
   "id": "c3758c62",
   "metadata": {},
   "outputs": [
    {
     "data": {
      "text/plain": [
       "<matplotlib.lines.Line2D at 0x7fd3a09721f0>"
      ]
     },
     "execution_count": 6,
     "metadata": {},
     "output_type": "execute_result"
    },
    {
     "data": {
      "image/png": "[encoded data removed]",
      "text/plain": [
       "<Figure size 640x480 with 1 Axes>"
      ]
     },
     "metadata": {},
     "output_type": "display_data"
    }
   ],
   "source": [
    "plt.plot(model.resid_pearson, \"o\")\n",
    "plt.axhline(y=0, c = \"green\")"
   ]
  },
  {
   "cell_type": "code",
   "execution_count": 7,
   "id": "75266458",
   "metadata": {},
   "outputs": [
    {
     "name": "stdout",
     "output_type": "stream",
     "text": [
      "The max Cook's distance is: 0.40044355133438825 and the index is: 14\n"
     ]
    }
   ],
   "source": [
    "model_cd = model.get_influence()\n",
    "(model_cd,areg) = model_cd.cooks_distance\n",
    "max_dist = np.max(model_cd)\n",
    "max_distarg = np.argmax(model_cd)\n",
    "print(\"The max Cook's distance is: {} and the index is: {}\".format(max_dist,max_distarg))"
   ]
  },
  {
   "cell_type": "code",
   "execution_count": null,
   "id": "85110334",
   "metadata": {},
   "outputs": [],
   "source": [
    "#newdata_update = newdata.drop(0)"
   ]
  },
  {
   "cell_type": "code",
   "execution_count": null,
   "id": "d32f35c9",
   "metadata": {},
   "outputs": [],
   "source": [
    "#newdata_update.iloc[0]"
   ]
  },
  {
   "cell_type": "code",
   "execution_count": 9,
   "id": "a00a193c",
   "metadata": {},
   "outputs": [
    {
     "data": {
      "text/html": [
       "<table class=\"simpletable\">\n",
       "<caption>OLS Regression Results</caption>\n",
       "<tr>\n",
       "  <th>Dep. Variable:</th>           <td>Min</td>       <th>  R-squared:         </th> <td>   0.810</td>\n",
       "</tr>\n",
       "<tr>\n",
       "  <th>Model:</th>                   <td>OLS</td>       <th>  Adj. R-squared:    </th> <td>   0.794</td>\n",
       "</tr>\n",
       "<tr>\n",
       "  <th>Method:</th>             <td>Least Squares</td>  <th>  F-statistic:       </th> <td>   51.12</td>\n",
       "</tr>\n",
       "<tr>\n",
       "  <th>Date:</th>             <td>Fri, 10 Feb 2023</td> <th>  Prob (F-statistic):</th> <td>2.23e-09</td>\n",
       "</tr>\n",
       "<tr>\n",
       "  <th>Time:</th>                 <td>19:06:23</td>     <th>  Log-Likelihood:    </th> <td> -185.87</td>\n",
       "</tr>\n",
       "<tr>\n",
       "  <th>No. Observations:</th>      <td>    27</td>      <th>  AIC:               </th> <td>   377.7</td>\n",
       "</tr>\n",
       "<tr>\n",
       "  <th>Df Residuals:</th>          <td>    24</td>      <th>  BIC:               </th> <td>   381.6</td>\n",
       "</tr>\n",
       "<tr>\n",
       "  <th>Df Model:</th>              <td>     2</td>      <th>                     </th>     <td> </td>   \n",
       "</tr>\n",
       "<tr>\n",
       "  <th>Covariance Type:</th>      <td>nonrobust</td>    <th>                     </th>     <td> </td>   \n",
       "</tr>\n",
       "</table>\n",
       "<table class=\"simpletable\">\n",
       "<tr>\n",
       "      <td></td>         <th>coef</th>     <th>std err</th>      <th>t</th>      <th>P>|t|</th>  <th>[0.025</th>    <th>0.975]</th>  \n",
       "</tr>\n",
       "<tr>\n",
       "  <th>Intercept</th> <td> -119.3283</td> <td>  263.977</td> <td>   -0.452</td> <td> 0.655</td> <td> -664.151</td> <td>  425.494</td>\n",
       "</tr>\n",
       "<tr>\n",
       "  <th>Age</th>       <td>    8.1906</td> <td>   10.917</td> <td>    0.750</td> <td> 0.460</td> <td>  -14.341</td> <td>   30.722</td>\n",
       "</tr>\n",
       "<tr>\n",
       "  <th>Totdist</th>   <td>    0.3966</td> <td>    0.046</td> <td>    8.689</td> <td> 0.000</td> <td>    0.302</td> <td>    0.491</td>\n",
       "</tr>\n",
       "</table>\n",
       "<table class=\"simpletable\">\n",
       "<tr>\n",
       "  <th>Omnibus:</th>       <td> 8.656</td> <th>  Durbin-Watson:     </th> <td>   1.319</td>\n",
       "</tr>\n",
       "<tr>\n",
       "  <th>Prob(Omnibus):</th> <td> 0.013</td> <th>  Jarque-Bera (JB):  </th> <td>   6.802</td>\n",
       "</tr>\n",
       "<tr>\n",
       "  <th>Skew:</th>          <td> 1.017</td> <th>  Prob(JB):          </th> <td>  0.0333</td>\n",
       "</tr>\n",
       "<tr>\n",
       "  <th>Kurtosis:</th>      <td> 4.382</td> <th>  Cond. No.          </th> <td>1.09e+04</td>\n",
       "</tr>\n",
       "</table><br/><br/>Notes:<br/>[1] Standard Errors assume that the covariance matrix of the errors is correctly specified.<br/>[2] The condition number is large, 1.09e+04. This might indicate that there are<br/>strong multicollinearity or other numerical problems."
      ],
      "text/plain": [
       "<class 'statsmodels.iolib.summary.Summary'>\n",
       "\"\"\"\n",
       "                            OLS Regression Results                            \n",
       "==============================================================================\n",
       "Dep. Variable:                    Min   R-squared:                       0.810\n",
       "Model:                            OLS   Adj. R-squared:                  0.794\n",
       "Method:                 Least Squares   F-statistic:                     51.12\n",
       "Date:                Fri, 10 Feb 2023   Prob (F-statistic):           2.23e-09\n",
       "Time:                        19:06:23   Log-Likelihood:                -185.87\n",
       "No. Observations:                  27   AIC:                             377.7\n",
       "Df Residuals:                      24   BIC:                             381.6\n",
       "Df Model:                           2                                         \n",
       "Covariance Type:            nonrobust                                         \n",
       "==============================================================================\n",
       "                 coef    std err          t      P>|t|      [0.025      0.975]\n",
       "------------------------------------------------------------------------------\n",
       "Intercept   -119.3283    263.977     -0.452      0.655    -664.151     425.494\n",
       "Age            8.1906     10.917      0.750      0.460     -14.341      30.722\n",
       "Totdist        0.3966      0.046      8.689      0.000       0.302       0.491\n",
       "==============================================================================\n",
       "Omnibus:                        8.656   Durbin-Watson:                   1.319\n",
       "Prob(Omnibus):                  0.013   Jarque-Bera (JB):                6.802\n",
       "Skew:                           1.017   Prob(JB):                       0.0333\n",
       "Kurtosis:                       4.382   Cond. No.                     1.09e+04\n",
       "==============================================================================\n",
       "\n",
       "Notes:\n",
       "[1] Standard Errors assume that the covariance matrix of the errors is correctly specified.\n",
       "[2] The condition number is large, 1.09e+04. This might indicate that there are\n",
       "strong multicollinearity or other numerical problems.\n",
       "\"\"\""
      ]
     },
     "execution_count": 9,
     "metadata": {},
     "output_type": "execute_result"
    }
   ],
   "source": [
    "model1 = smf.ols(\"Min~Age+Totdist\",data = newdata).fit()\n",
    "model1.summary()"
   ]
  },
  {
   "cell_type": "code",
   "execution_count": 10,
   "id": "322980c3",
   "metadata": {
    "scrolled": true
   },
   "outputs": [
    {
     "data": {
      "text/html": [
       "<table class=\"simpletable\">\n",
       "<caption>OLS Regression Results</caption>\n",
       "<tr>\n",
       "  <th>Dep. Variable:</th>           <td>Min</td>       <th>  R-squared:         </th> <td>   0.805</td>\n",
       "</tr>\n",
       "<tr>\n",
       "  <th>Model:</th>                   <td>OLS</td>       <th>  Adj. R-squared:    </th> <td>   0.798</td>\n",
       "</tr>\n",
       "<tr>\n",
       "  <th>Method:</th>             <td>Least Squares</td>  <th>  F-statistic:       </th> <td>   103.5</td>\n",
       "</tr>\n",
       "<tr>\n",
       "  <th>Date:</th>             <td>Fri, 10 Feb 2023</td> <th>  Prob (F-statistic):</th> <td>2.27e-10</td>\n",
       "</tr>\n",
       "<tr>\n",
       "  <th>Time:</th>                 <td>19:06:31</td>     <th>  Log-Likelihood:    </th> <td> -186.18</td>\n",
       "</tr>\n",
       "<tr>\n",
       "  <th>No. Observations:</th>      <td>    27</td>      <th>  AIC:               </th> <td>   376.4</td>\n",
       "</tr>\n",
       "<tr>\n",
       "  <th>Df Residuals:</th>          <td>    25</td>      <th>  BIC:               </th> <td>   379.0</td>\n",
       "</tr>\n",
       "<tr>\n",
       "  <th>Df Model:</th>              <td>     1</td>      <th>                     </th>     <td> </td>   \n",
       "</tr>\n",
       "<tr>\n",
       "  <th>Covariance Type:</th>      <td>nonrobust</td>    <th>                     </th>     <td> </td>   \n",
       "</tr>\n",
       "</table>\n",
       "<table class=\"simpletable\">\n",
       "<tr>\n",
       "      <td></td>         <th>coef</th>     <th>std err</th>      <th>t</th>      <th>P>|t|</th>  <th>[0.025</th>    <th>0.975]</th>  \n",
       "</tr>\n",
       "<tr>\n",
       "  <th>Intercept</th> <td>   69.0357</td> <td>   80.834</td> <td>    0.854</td> <td> 0.401</td> <td>  -97.445</td> <td>  235.517</td>\n",
       "</tr>\n",
       "<tr>\n",
       "  <th>Totdist</th>   <td>    0.4118</td> <td>    0.040</td> <td>   10.172</td> <td> 0.000</td> <td>    0.328</td> <td>    0.495</td>\n",
       "</tr>\n",
       "</table>\n",
       "<table class=\"simpletable\">\n",
       "<tr>\n",
       "  <th>Omnibus:</th>       <td> 9.944</td> <th>  Durbin-Watson:     </th> <td>   1.212</td>\n",
       "</tr>\n",
       "<tr>\n",
       "  <th>Prob(Omnibus):</th> <td> 0.007</td> <th>  Jarque-Bera (JB):  </th> <td>   8.341</td>\n",
       "</tr>\n",
       "<tr>\n",
       "  <th>Skew:</th>          <td> 1.103</td> <th>  Prob(JB):          </th> <td>  0.0154</td>\n",
       "</tr>\n",
       "<tr>\n",
       "  <th>Kurtosis:</th>      <td> 4.597</td> <th>  Cond. No.          </th> <td>3.38e+03</td>\n",
       "</tr>\n",
       "</table><br/><br/>Notes:<br/>[1] Standard Errors assume that the covariance matrix of the errors is correctly specified.<br/>[2] The condition number is large, 3.38e+03. This might indicate that there are<br/>strong multicollinearity or other numerical problems."
      ],
      "text/plain": [
       "<class 'statsmodels.iolib.summary.Summary'>\n",
       "\"\"\"\n",
       "                            OLS Regression Results                            \n",
       "==============================================================================\n",
       "Dep. Variable:                    Min   R-squared:                       0.805\n",
       "Model:                            OLS   Adj. R-squared:                  0.798\n",
       "Method:                 Least Squares   F-statistic:                     103.5\n",
       "Date:                Fri, 10 Feb 2023   Prob (F-statistic):           2.27e-10\n",
       "Time:                        19:06:31   Log-Likelihood:                -186.18\n",
       "No. Observations:                  27   AIC:                             376.4\n",
       "Df Residuals:                      25   BIC:                             379.0\n",
       "Df Model:                           1                                         \n",
       "Covariance Type:            nonrobust                                         \n",
       "==============================================================================\n",
       "                 coef    std err          t      P>|t|      [0.025      0.975]\n",
       "------------------------------------------------------------------------------\n",
       "Intercept     69.0357     80.834      0.854      0.401     -97.445     235.517\n",
       "Totdist        0.4118      0.040     10.172      0.000       0.328       0.495\n",
       "==============================================================================\n",
       "Omnibus:                        9.944   Durbin-Watson:                   1.212\n",
       "Prob(Omnibus):                  0.007   Jarque-Bera (JB):                8.341\n",
       "Skew:                           1.103   Prob(JB):                       0.0154\n",
       "Kurtosis:                       4.597   Cond. No.                     3.38e+03\n",
       "==============================================================================\n",
       "\n",
       "Notes:\n",
       "[1] Standard Errors assume that the covariance matrix of the errors is correctly specified.\n",
       "[2] The condition number is large, 3.38e+03. This might indicate that there are\n",
       "strong multicollinearity or other numerical problems.\n",
       "\"\"\""
      ]
     },
     "execution_count": 10,
     "metadata": {},
     "output_type": "execute_result"
    }
   ],
   "source": [
    "model2 = smf.ols(\"Min~Totdist\", data = newdata).fit()\n",
    "model2.summary()"
   ]
  },
  {
   "cell_type": "code",
   "execution_count": 19,
   "id": "76849144",
   "metadata": {},
   "outputs": [
    {
     "name": "stdout",
     "output_type": "stream",
     "text": [
      "The Cook's distance is: 0.2656872968865735 and the index is: 0\n"
     ]
    }
   ],
   "source": [
    "model2_cd = model2.get_influence()\n",
    "(model2_cd,areg) = model2_cd.cooks_distance\n",
    "max_dist = np.max(model2_cd)\n",
    "maxdistarg = np.argmax(model2_cd)\n",
    "print(\"The Cook's distance is: {} and the index is: {}\".format(max_dist,maxdistarg))\n",
    "\n",
    "#Calculating Cook's distance for model 2 (y = Min, and x = Totdist)"
   ]
  },
  {
   "cell_type": "code",
   "execution_count": 21,
   "id": "38118f3a",
   "metadata": {
    "scrolled": true
   },
   "outputs": [
    {
     "data": {
      "text/plain": [
       "<StemContainer object of 3 artists>"
      ]
     },
     "execution_count": 21,
     "metadata": {},
     "output_type": "execute_result"
    },
    {
     "data": {
      "image/png": "[encoded data removed]",
      "text/plain": [
       "<Figure size 640x480 with 1 Axes>"
      ]
     },
     "metadata": {},
     "output_type": "display_data"
    }
   ],
   "source": [
    "plt.stem(np.arange(len(newdata)),np.round(model2_cd,3))"
   ]
  },
  {
   "cell_type": "code",
   "execution_count": null,
   "id": "4209095e",
   "metadata": {},
   "outputs": [],
   "source": [
    "plt.plot(model2.resid_pearson, \"o\")\n",
    "plt.axhline(y=0, c = \"green\")"
   ]
  },
  {
   "cell_type": "code",
   "execution_count": 27,
   "id": "95b6dc51",
   "metadata": {
    "scrolled": false
   },
   "outputs": [
    {
     "data": {
      "text/html": [
       "<div>\n",
       "<style scoped>\n",
       "    .dataframe tbody tr th:only-of-type {\n",
       "        vertical-align: middle;\n",
       "    }\n",
       "\n",
       "    .dataframe tbody tr th {\n",
       "        vertical-align: top;\n",
       "    }\n",
       "\n",
       "    .dataframe thead th {\n",
       "        text-align: right;\n",
       "    }\n",
       "</style>\n",
       "<table border=\"1\" class=\"dataframe\">\n",
       "  <thead>\n",
       "    <tr style=\"text-align: right;\">\n",
       "      <th></th>\n",
       "      <th>Player</th>\n",
       "      <th>Age</th>\n",
       "      <th>MP</th>\n",
       "      <th>Min</th>\n",
       "      <th>Totdist</th>\n",
       "      <th>PrgDist</th>\n",
       "    </tr>\n",
       "  </thead>\n",
       "  <tbody>\n",
       "    <tr>\n",
       "      <th>1</th>\n",
       "      <td>Mohamed Salah</td>\n",
       "      <td>30</td>\n",
       "      <td>20</td>\n",
       "      <td>1776</td>\n",
       "      <td>3051</td>\n",
       "      <td>1374</td>\n",
       "    </tr>\n",
       "    <tr>\n",
       "      <th>2</th>\n",
       "      <td>Virgil van Dijk</td>\n",
       "      <td>31</td>\n",
       "      <td>17</td>\n",
       "      <td>1485</td>\n",
       "      <td>3632</td>\n",
       "      <td>1865</td>\n",
       "    </tr>\n",
       "    <tr>\n",
       "      <th>3</th>\n",
       "      <td>Trent Alexander-Arnold</td>\n",
       "      <td>24</td>\n",
       "      <td>20</td>\n",
       "      <td>1441</td>\n",
       "      <td>3137</td>\n",
       "      <td>1636</td>\n",
       "    </tr>\n",
       "    <tr>\n",
       "      <th>4</th>\n",
       "      <td>Andrew Robertson</td>\n",
       "      <td>28</td>\n",
       "      <td>18</td>\n",
       "      <td>1322</td>\n",
       "      <td>3236</td>\n",
       "      <td>1790</td>\n",
       "    </tr>\n",
       "    <tr>\n",
       "      <th>5</th>\n",
       "      <td>Fabinho</td>\n",
       "      <td>29</td>\n",
       "      <td>18</td>\n",
       "      <td>1253</td>\n",
       "      <td>2366</td>\n",
       "      <td>989</td>\n",
       "    </tr>\n",
       "    <tr>\n",
       "      <th>6</th>\n",
       "      <td>Thiago Alcántara</td>\n",
       "      <td>31</td>\n",
       "      <td>14</td>\n",
       "      <td>1154</td>\n",
       "      <td>3315</td>\n",
       "      <td>1541</td>\n",
       "    </tr>\n",
       "    <tr>\n",
       "      <th>7</th>\n",
       "      <td>Harvey Elliott</td>\n",
       "      <td>19</td>\n",
       "      <td>20</td>\n",
       "      <td>1131</td>\n",
       "      <td>2757</td>\n",
       "      <td>1379</td>\n",
       "    </tr>\n",
       "    <tr>\n",
       "      <th>8</th>\n",
       "      <td>Joe Gomez</td>\n",
       "      <td>25</td>\n",
       "      <td>17</td>\n",
       "      <td>1106</td>\n",
       "      <td>3507</td>\n",
       "      <td>2004</td>\n",
       "    </tr>\n",
       "    <tr>\n",
       "      <th>9</th>\n",
       "      <td>Darwin Núñez</td>\n",
       "      <td>23</td>\n",
       "      <td>15</td>\n",
       "      <td>989</td>\n",
       "      <td>1433</td>\n",
       "      <td>792</td>\n",
       "    </tr>\n",
       "    <tr>\n",
       "      <th>10</th>\n",
       "      <td>Roberto Firmino</td>\n",
       "      <td>31</td>\n",
       "      <td>13</td>\n",
       "      <td>929</td>\n",
       "      <td>1303</td>\n",
       "      <td>526</td>\n",
       "    </tr>\n",
       "    <tr>\n",
       "      <th>11</th>\n",
       "      <td>Jordan Henderson</td>\n",
       "      <td>32</td>\n",
       "      <td>17</td>\n",
       "      <td>919</td>\n",
       "      <td>2398</td>\n",
       "      <td>1049</td>\n",
       "    </tr>\n",
       "    <tr>\n",
       "      <th>12</th>\n",
       "      <td>Joël Matip</td>\n",
       "      <td>31</td>\n",
       "      <td>9</td>\n",
       "      <td>642</td>\n",
       "      <td>2236</td>\n",
       "      <td>1584</td>\n",
       "    </tr>\n",
       "    <tr>\n",
       "      <th>13</th>\n",
       "      <td>Luis Díaz</td>\n",
       "      <td>26</td>\n",
       "      <td>8</td>\n",
       "      <td>613</td>\n",
       "      <td>1586</td>\n",
       "      <td>624</td>\n",
       "    </tr>\n",
       "    <tr>\n",
       "      <th>14</th>\n",
       "      <td>James Milner</td>\n",
       "      <td>37</td>\n",
       "      <td>14</td>\n",
       "      <td>546</td>\n",
       "      <td>1127</td>\n",
       "      <td>553</td>\n",
       "    </tr>\n",
       "    <tr>\n",
       "      <th>15</th>\n",
       "      <td>Kostas Tsimikas</td>\n",
       "      <td>26</td>\n",
       "      <td>13</td>\n",
       "      <td>446</td>\n",
       "      <td>1238</td>\n",
       "      <td>651</td>\n",
       "    </tr>\n",
       "    <tr>\n",
       "      <th>16</th>\n",
       "      <td>Ibrahima Konaté</td>\n",
       "      <td>23</td>\n",
       "      <td>5</td>\n",
       "      <td>382</td>\n",
       "      <td>900</td>\n",
       "      <td>465</td>\n",
       "    </tr>\n",
       "    <tr>\n",
       "      <th>17</th>\n",
       "      <td>Fabio Carvalho</td>\n",
       "      <td>20</td>\n",
       "      <td>11</td>\n",
       "      <td>337</td>\n",
       "      <td>517</td>\n",
       "      <td>212</td>\n",
       "    </tr>\n",
       "    <tr>\n",
       "      <th>18</th>\n",
       "      <td>Alex Oxlade-Chamberlain</td>\n",
       "      <td>29</td>\n",
       "      <td>8</td>\n",
       "      <td>314</td>\n",
       "      <td>590</td>\n",
       "      <td>234</td>\n",
       "    </tr>\n",
       "    <tr>\n",
       "      <th>19</th>\n",
       "      <td>Cody Gakpo</td>\n",
       "      <td>23</td>\n",
       "      <td>3</td>\n",
       "      <td>255</td>\n",
       "      <td>190</td>\n",
       "      <td>111</td>\n",
       "    </tr>\n",
       "    <tr>\n",
       "      <th>20</th>\n",
       "      <td>Naby Keïta</td>\n",
       "      <td>28</td>\n",
       "      <td>6</td>\n",
       "      <td>247</td>\n",
       "      <td>435</td>\n",
       "      <td>200</td>\n",
       "    </tr>\n",
       "    <tr>\n",
       "      <th>21</th>\n",
       "      <td>Diogo Jota</td>\n",
       "      <td>26</td>\n",
       "      <td>4</td>\n",
       "      <td>196</td>\n",
       "      <td>399</td>\n",
       "      <td>196</td>\n",
       "    </tr>\n",
       "    <tr>\n",
       "      <th>22</th>\n",
       "      <td>Stefan Bajcetic</td>\n",
       "      <td>18</td>\n",
       "      <td>5</td>\n",
       "      <td>194</td>\n",
       "      <td>351</td>\n",
       "      <td>167</td>\n",
       "    </tr>\n",
       "    <tr>\n",
       "      <th>23</th>\n",
       "      <td>Curtis Jones</td>\n",
       "      <td>22</td>\n",
       "      <td>6</td>\n",
       "      <td>189</td>\n",
       "      <td>580</td>\n",
       "      <td>223</td>\n",
       "    </tr>\n",
       "    <tr>\n",
       "      <th>24</th>\n",
       "      <td>Nathaniel Phillips</td>\n",
       "      <td>25</td>\n",
       "      <td>2</td>\n",
       "      <td>66</td>\n",
       "      <td>574</td>\n",
       "      <td>393</td>\n",
       "    </tr>\n",
       "    <tr>\n",
       "      <th>25</th>\n",
       "      <td>Ben Doak</td>\n",
       "      <td>17</td>\n",
       "      <td>2</td>\n",
       "      <td>26</td>\n",
       "      <td>182</td>\n",
       "      <td>51</td>\n",
       "    </tr>\n",
       "    <tr>\n",
       "      <th>26</th>\n",
       "      <td>Bobby Clark</td>\n",
       "      <td>18</td>\n",
       "      <td>1</td>\n",
       "      <td>8</td>\n",
       "      <td>3</td>\n",
       "      <td>0</td>\n",
       "    </tr>\n",
       "  </tbody>\n",
       "</table>\n",
       "</div>"
      ],
      "text/plain": [
       "                     Player  Age  MP   Min  Totdist  PrgDist\n",
       "1             Mohamed Salah   30  20  1776     3051     1374\n",
       "2           Virgil van Dijk   31  17  1485     3632     1865\n",
       "3    Trent Alexander-Arnold   24  20  1441     3137     1636\n",
       "4          Andrew Robertson   28  18  1322     3236     1790\n",
       "5                   Fabinho   29  18  1253     2366      989\n",
       "6          Thiago Alcántara   31  14  1154     3315     1541\n",
       "7            Harvey Elliott   19  20  1131     2757     1379\n",
       "8                 Joe Gomez   25  17  1106     3507     2004\n",
       "9              Darwin Núñez   23  15   989     1433      792\n",
       "10          Roberto Firmino   31  13   929     1303      526\n",
       "11         Jordan Henderson   32  17   919     2398     1049\n",
       "12               Joël Matip   31   9   642     2236     1584\n",
       "13                Luis Díaz   26   8   613     1586      624\n",
       "14             James Milner   37  14   546     1127      553\n",
       "15          Kostas Tsimikas   26  13   446     1238      651\n",
       "16          Ibrahima Konaté   23   5   382      900      465\n",
       "17           Fabio Carvalho   20  11   337      517      212\n",
       "18  Alex Oxlade-Chamberlain   29   8   314      590      234\n",
       "19               Cody Gakpo   23   3   255      190      111\n",
       "20               Naby Keïta   28   6   247      435      200\n",
       "21               Diogo Jota   26   4   196      399      196\n",
       "22          Stefan Bajcetic   18   5   194      351      167\n",
       "23             Curtis Jones   22   6   189      580      223\n",
       "24       Nathaniel Phillips   25   2    66      574      393\n",
       "25                 Ben Doak   17   2    26      182       51\n",
       "26              Bobby Clark   18   1     8        3        0"
      ]
     },
     "execution_count": 27,
     "metadata": {},
     "output_type": "execute_result"
    }
   ],
   "source": [
    "newdata1 = newdata.drop(0)\n",
    "newdata1"
   ]
  },
  {
   "cell_type": "code",
   "execution_count": 30,
   "id": "1261d05a",
   "metadata": {},
   "outputs": [
    {
     "data": {
      "text/html": [
       "<table class=\"simpletable\">\n",
       "<caption>OLS Regression Results</caption>\n",
       "<tr>\n",
       "  <th>Dep. Variable:</th>           <td>Min</td>       <th>  R-squared:         </th> <td>   0.855</td>\n",
       "</tr>\n",
       "<tr>\n",
       "  <th>Model:</th>                   <td>OLS</td>       <th>  Adj. R-squared:    </th> <td>   0.849</td>\n",
       "</tr>\n",
       "<tr>\n",
       "  <th>Method:</th>             <td>Least Squares</td>  <th>  F-statistic:       </th> <td>   141.7</td>\n",
       "</tr>\n",
       "<tr>\n",
       "  <th>Date:</th>             <td>Fri, 10 Feb 2023</td> <th>  Prob (F-statistic):</th> <td>1.47e-11</td>\n",
       "</tr>\n",
       "<tr>\n",
       "  <th>Time:</th>                 <td>19:27:02</td>     <th>  Log-Likelihood:    </th> <td> -173.83</td>\n",
       "</tr>\n",
       "<tr>\n",
       "  <th>No. Observations:</th>      <td>    26</td>      <th>  AIC:               </th> <td>   351.7</td>\n",
       "</tr>\n",
       "<tr>\n",
       "  <th>Df Residuals:</th>          <td>    24</td>      <th>  BIC:               </th> <td>   354.2</td>\n",
       "</tr>\n",
       "<tr>\n",
       "  <th>Df Model:</th>              <td>     1</td>      <th>                     </th>     <td> </td>   \n",
       "</tr>\n",
       "<tr>\n",
       "  <th>Covariance Type:</th>      <td>nonrobust</td>    <th>                     </th>     <td> </td>   \n",
       "</tr>\n",
       "</table>\n",
       "<table class=\"simpletable\">\n",
       "<tr>\n",
       "      <td></td>         <th>coef</th>     <th>std err</th>      <th>t</th>      <th>P>|t|</th>  <th>[0.025</th>    <th>0.975]</th>  \n",
       "</tr>\n",
       "<tr>\n",
       "  <th>Intercept</th> <td>   67.4068</td> <td>   65.647</td> <td>    1.027</td> <td> 0.315</td> <td>  -68.082</td> <td>  202.896</td>\n",
       "</tr>\n",
       "<tr>\n",
       "  <th>Totdist</th>   <td>    0.3950</td> <td>    0.033</td> <td>   11.904</td> <td> 0.000</td> <td>    0.327</td> <td>    0.464</td>\n",
       "</tr>\n",
       "</table>\n",
       "<table class=\"simpletable\">\n",
       "<tr>\n",
       "  <th>Omnibus:</th>       <td> 3.996</td> <th>  Durbin-Watson:     </th> <td>   1.702</td>\n",
       "</tr>\n",
       "<tr>\n",
       "  <th>Prob(Omnibus):</th> <td> 0.136</td> <th>  Jarque-Bera (JB):  </th> <td>   2.449</td>\n",
       "</tr>\n",
       "<tr>\n",
       "  <th>Skew:</th>          <td> 0.709</td> <th>  Prob(JB):          </th> <td>   0.294</td>\n",
       "</tr>\n",
       "<tr>\n",
       "  <th>Kurtosis:</th>      <td> 3.499</td> <th>  Cond. No.          </th> <td>3.28e+03</td>\n",
       "</tr>\n",
       "</table><br/><br/>Notes:<br/>[1] Standard Errors assume that the covariance matrix of the errors is correctly specified.<br/>[2] The condition number is large, 3.28e+03. This might indicate that there are<br/>strong multicollinearity or other numerical problems."
      ],
      "text/plain": [
       "<class 'statsmodels.iolib.summary.Summary'>\n",
       "\"\"\"\n",
       "                            OLS Regression Results                            \n",
       "==============================================================================\n",
       "Dep. Variable:                    Min   R-squared:                       0.855\n",
       "Model:                            OLS   Adj. R-squared:                  0.849\n",
       "Method:                 Least Squares   F-statistic:                     141.7\n",
       "Date:                Fri, 10 Feb 2023   Prob (F-statistic):           1.47e-11\n",
       "Time:                        19:27:02   Log-Likelihood:                -173.83\n",
       "No. Observations:                  26   AIC:                             351.7\n",
       "Df Residuals:                      24   BIC:                             354.2\n",
       "Df Model:                           1                                         \n",
       "Covariance Type:            nonrobust                                         \n",
       "==============================================================================\n",
       "                 coef    std err          t      P>|t|      [0.025      0.975]\n",
       "------------------------------------------------------------------------------\n",
       "Intercept     67.4068     65.647      1.027      0.315     -68.082     202.896\n",
       "Totdist        0.3950      0.033     11.904      0.000       0.327       0.464\n",
       "==============================================================================\n",
       "Omnibus:                        3.996   Durbin-Watson:                   1.702\n",
       "Prob(Omnibus):                  0.136   Jarque-Bera (JB):                2.449\n",
       "Skew:                           0.709   Prob(JB):                        0.294\n",
       "Kurtosis:                       3.499   Cond. No.                     3.28e+03\n",
       "==============================================================================\n",
       "\n",
       "Notes:\n",
       "[1] Standard Errors assume that the covariance matrix of the errors is correctly specified.\n",
       "[2] The condition number is large, 3.28e+03. This might indicate that there are\n",
       "strong multicollinearity or other numerical problems.\n",
       "\"\"\""
      ]
     },
     "execution_count": 30,
     "metadata": {},
     "output_type": "execute_result"
    }
   ],
   "source": [
    "model2a = smf.ols(\"Min~Totdist\", data = newdata1).fit()\n",
    "model2a.summary()"
   ]
  },
  {
   "cell_type": "code",
   "execution_count": null,
   "id": "3ae67466",
   "metadata": {},
   "outputs": [],
   "source": [
    "#Note: The rsquared of the new model after one influential point increases, while the AIC and BIC scores decrease.\n",
    "#So the model might be more accurate."
   ]
  },
  {
   "cell_type": "code",
   "execution_count": 47,
   "id": "4a9ed4ce",
   "metadata": {},
   "outputs": [
    {
     "name": "stdout",
     "output_type": "stream",
     "text": [
      "The max cook's distance is: 0.370775194544049 and the index is: 0\n"
     ]
    }
   ],
   "source": [
    "model2a_cd = model2a.get_influence()\n",
    "(model2a_cd,areg) = model2a_cd.cooks_distance\n",
    "maxdist = np.max(model2a_cd)\n",
    "maxdist_arg = np.argmax(model2a_cd)\n",
    "print(\"The max cook's distance is: {} and the index is: {}\".format(maxdist,maxdist_arg))"
   ]
  },
  {
   "cell_type": "code",
   "execution_count": 44,
   "id": "9b703fc1",
   "metadata": {},
   "outputs": [
    {
     "data": {
      "text/plain": [
       "<matplotlib.collections.PathCollection at 0x7fd3d0167d00>"
      ]
     },
     "execution_count": 44,
     "metadata": {},
     "output_type": "execute_result"
    },
    {
     "data": {
      "image/png": "[encoded data removed]",
      "text/plain": [
       "<Figure size 640x480 with 1 Axes>"
      ]
     },
     "metadata": {},
     "output_type": "display_data"
    }
   ],
   "source": [
    "plt.scatter(newdata1.Totdist,model2a_cd)\n",
    "\n",
    "#A scatter to find demonstrate the cooks distance and high influential points"
   ]
  },
  {
   "cell_type": "code",
   "execution_count": 51,
   "id": "5245176d",
   "metadata": {},
   "outputs": [],
   "source": [
    "newdata2 = newdata1.drop(1)\n",
    "#plt.stem(np.arange(len(newdata1)),np.round(model2a_cd,3))"
   ]
  },
  {
   "cell_type": "code",
   "execution_count": 55,
   "id": "2e23eb27",
   "metadata": {},
   "outputs": [
    {
     "data": {
      "text/html": [
       "<table class=\"simpletable\">\n",
       "<caption>OLS Regression Results</caption>\n",
       "<tr>\n",
       "  <th>Dep. Variable:</th>           <td>Min</td>       <th>  R-squared:         </th> <td>   0.874</td>\n",
       "</tr>\n",
       "<tr>\n",
       "  <th>Model:</th>                   <td>OLS</td>       <th>  Adj. R-squared:    </th> <td>   0.868</td>\n",
       "</tr>\n",
       "<tr>\n",
       "  <th>Method:</th>             <td>Least Squares</td>  <th>  F-statistic:       </th> <td>   159.4</td>\n",
       "</tr>\n",
       "<tr>\n",
       "  <th>Date:</th>             <td>Fri, 10 Feb 2023</td> <th>  Prob (F-statistic):</th> <td>7.98e-12</td>\n",
       "</tr>\n",
       "<tr>\n",
       "  <th>Time:</th>                 <td>19:51:55</td>     <th>  Log-Likelihood:    </th> <td> -163.41</td>\n",
       "</tr>\n",
       "<tr>\n",
       "  <th>No. Observations:</th>      <td>    25</td>      <th>  AIC:               </th> <td>   330.8</td>\n",
       "</tr>\n",
       "<tr>\n",
       "  <th>Df Residuals:</th>          <td>    23</td>      <th>  BIC:               </th> <td>   333.2</td>\n",
       "</tr>\n",
       "<tr>\n",
       "  <th>Df Model:</th>              <td>     1</td>      <th>                     </th>     <td> </td>   \n",
       "</tr>\n",
       "<tr>\n",
       "  <th>Covariance Type:</th>      <td>nonrobust</td>    <th>                     </th>     <td> </td>   \n",
       "</tr>\n",
       "</table>\n",
       "<table class=\"simpletable\">\n",
       "<tr>\n",
       "      <td></td>         <th>coef</th>     <th>std err</th>      <th>t</th>      <th>P>|t|</th>  <th>[0.025</th>    <th>0.975]</th>  \n",
       "</tr>\n",
       "<tr>\n",
       "  <th>Intercept</th> <td>   81.0222</td> <td>   56.790</td> <td>    1.427</td> <td> 0.167</td> <td>  -36.458</td> <td>  198.502</td>\n",
       "</tr>\n",
       "<tr>\n",
       "  <th>Totdist</th>   <td>    0.3728</td> <td>    0.030</td> <td>   12.624</td> <td> 0.000</td> <td>    0.312</td> <td>    0.434</td>\n",
       "</tr>\n",
       "</table>\n",
       "<table class=\"simpletable\">\n",
       "<tr>\n",
       "  <th>Omnibus:</th>       <td> 2.465</td> <th>  Durbin-Watson:     </th> <td>   1.784</td>\n",
       "</tr>\n",
       "<tr>\n",
       "  <th>Prob(Omnibus):</th> <td> 0.292</td> <th>  Jarque-Bera (JB):  </th> <td>   1.473</td>\n",
       "</tr>\n",
       "<tr>\n",
       "  <th>Skew:</th>          <td> 0.590</td> <th>  Prob(JB):          </th> <td>   0.479</td>\n",
       "</tr>\n",
       "<tr>\n",
       "  <th>Kurtosis:</th>      <td> 3.151</td> <th>  Cond. No.          </th> <td>3.14e+03</td>\n",
       "</tr>\n",
       "</table><br/><br/>Notes:<br/>[1] Standard Errors assume that the covariance matrix of the errors is correctly specified.<br/>[2] The condition number is large, 3.14e+03. This might indicate that there are<br/>strong multicollinearity or other numerical problems."
      ],
      "text/plain": [
       "<class 'statsmodels.iolib.summary.Summary'>\n",
       "\"\"\"\n",
       "                            OLS Regression Results                            \n",
       "==============================================================================\n",
       "Dep. Variable:                    Min   R-squared:                       0.874\n",
       "Model:                            OLS   Adj. R-squared:                  0.868\n",
       "Method:                 Least Squares   F-statistic:                     159.4\n",
       "Date:                Fri, 10 Feb 2023   Prob (F-statistic):           7.98e-12\n",
       "Time:                        19:51:55   Log-Likelihood:                -163.41\n",
       "No. Observations:                  25   AIC:                             330.8\n",
       "Df Residuals:                      23   BIC:                             333.2\n",
       "Df Model:                           1                                         \n",
       "Covariance Type:            nonrobust                                         \n",
       "==============================================================================\n",
       "                 coef    std err          t      P>|t|      [0.025      0.975]\n",
       "------------------------------------------------------------------------------\n",
       "Intercept     81.0222     56.790      1.427      0.167     -36.458     198.502\n",
       "Totdist        0.3728      0.030     12.624      0.000       0.312       0.434\n",
       "==============================================================================\n",
       "Omnibus:                        2.465   Durbin-Watson:                   1.784\n",
       "Prob(Omnibus):                  0.292   Jarque-Bera (JB):                1.473\n",
       "Skew:                           0.590   Prob(JB):                        0.479\n",
       "Kurtosis:                       3.151   Cond. No.                     3.14e+03\n",
       "==============================================================================\n",
       "\n",
       "Notes:\n",
       "[1] Standard Errors assume that the covariance matrix of the errors is correctly specified.\n",
       "[2] The condition number is large, 3.14e+03. This might indicate that there are\n",
       "strong multicollinearity or other numerical problems.\n",
       "\"\"\""
      ]
     },
     "execution_count": 55,
     "metadata": {},
     "output_type": "execute_result"
    }
   ],
   "source": [
    "model2b = smf.ols(\"Min~Totdist\", data = newdata2).fit()\n",
    "model2b.summary()"
   ]
  },
  {
   "cell_type": "code",
   "execution_count": 56,
   "id": "23d29bc0",
   "metadata": {},
   "outputs": [
    {
     "name": "stdout",
     "output_type": "stream",
     "text": [
      "The max cook's distance is: 0.28316249120782216 and the index is: 6\n"
     ]
    }
   ],
   "source": [
    "model2b_cd = model2b.get_influence()\n",
    "(model2b_cd,areg) = model2b_cd.cooks_distance\n",
    "maxdist = np.max(model2b_cd)\n",
    "maxdist_arg = np.argmax(model2b_cd)\n",
    "print(\"The max cook's distance is: {} and the index is: {}\".format(maxdist,maxdist_arg))"
   ]
  },
  {
   "cell_type": "code",
   "execution_count": 58,
   "id": "c6fa5f66",
   "metadata": {},
   "outputs": [
    {
     "data": {
      "text/plain": [
       "<StemContainer object of 3 artists>"
      ]
     },
     "execution_count": 58,
     "metadata": {},
     "output_type": "execute_result"
    },
    {
     "data": {
      "image/png": "[encoded data removed]",
      "text/plain": [
       "<Figure size 640x480 with 1 Axes>"
      ]
     },
     "metadata": {},
     "output_type": "display_data"
    }
   ],
   "source": [
    "plt.stem(np.arange(len(newdata2)),np.round(model2b_cd,3))"
   ]
  },
  {
   "cell_type": "code",
   "execution_count": 68,
   "id": "9c16fd55",
   "metadata": {},
   "outputs": [
    {
     "name": "stdout",
     "output_type": "stream",
     "text": [
      "Enter total distance: 1500\n",
      "The expected minutes are: 640.2627635305627\n"
     ]
    }
   ],
   "source": [
    "enterinput = int(input(\"Enter total distance: \"))\n",
    "userinput = pd.Series(enterinput)\n",
    "userinput = pd.DataFrame(userinput, columns  = [\"Totdist\"])\n",
    "pred = model2b.predict(userinput)\n",
    "print(\"The expected minutes are: {}\".format(pred[0]))"
   ]
  },
  {
   "cell_type": "code",
   "execution_count": null,
   "id": "d3edca2f",
   "metadata": {},
   "outputs": [],
   "source": []
  },
  {
   "cell_type": "code",
   "execution_count": null,
   "id": "29b0f57a",
   "metadata": {},
   "outputs": [],
   "source": []
  },
  {
   "cell_type": "code",
   "execution_count": null,
   "id": "f3ef6263",
   "metadata": {},
   "outputs": [],
   "source": []
  },
  {
   "cell_type": "code",
   "execution_count": null,
   "id": "cce2a626",
   "metadata": {},
   "outputs": [],
   "source": []
  },
  {
   "cell_type": "code",
   "execution_count": null,
   "id": "4501d742",
   "metadata": {},
   "outputs": [],
   "source": []
  }
 ],
 "metadata": {
  "kernelspec": {
   "display_name": "Python 3 (ipykernel)",
   "language": "python",
   "name": "python3"
  },
  "language_info": {
   "codemirror_mode": {
    "name": "ipython",
    "version": 3
   },
   "file_extension": ".py",
   "mimetype": "text/x-python",
   "name": "python",
   "nbconvert_exporter": "python",
   "pygments_lexer": "ipython3",
   "version": "3.9.13"
  }
 },
 "nbformat": 4,
 "nbformat_minor": 5
}
